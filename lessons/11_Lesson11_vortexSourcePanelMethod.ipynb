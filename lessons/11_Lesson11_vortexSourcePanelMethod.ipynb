{
 "cells": [
  {
   "cell_type": "markdown",
   "metadata": {},
   "source": [
    "###### Content under Creative Commons Attribution license CC-BY 4.0, code under MIT license (c)2015 L.A. Barba, Olivier Mesnard, Pi-Yueh Chuang, Natalia Clementi."
   ]
  },
  {
   "cell_type": "markdown",
   "metadata": {},
   "source": [
    "##### Version 0.5 -- April 2015"
   ]
  },
  {
   "cell_type": "markdown",
   "metadata": {},
   "source": [
    "# Vortex-source panel method"
   ]
  },
  {
   "cell_type": "markdown",
   "metadata": {},
   "source": [
    "In [Lesson 9](http://nbviewer.ipython.org/urls/github.com/barbagroup/AeroPython/blob/master/lessons/09_Lesson09_flowOverCylinder.ipynb) of _AeroPython_, you learned to use a _source panel method_ to represent a circular cylinder, and in [Lesson 10](http://nbviewer.ipython.org/urls/github.com/barbagroup/AeroPython/blob/master/lessons/10_Lesson10_sourcePanelMethod.ipynb) we used it for a symmetric airfoil at zero angle of attack. But what if we want the airfoil to generate some lift? If we place the airfoil at a non-zero angle of attack, we _should_ get lift, but will a source-panel representation be able to give you lift? Remember the [_Kutta-Joukowski theorem_](http://en.wikipedia.org/wiki/Kutta%E2%80%93Joukowski_theorem)?\n",
    "\n",
    "\n",
    "Historically, the first panel method ever developed was a source-sheet method. At the time, Douglas Aircraft Company was concerned with calculating the flow around bodies of revolution, and it was only later that the method was extended to lifting surfaces. (See the reference below for a nice historical account.)\n",
    "\n",
    "A *source-panel method* leads to a solution with no circulation, therefore no lift. The objective of this lesson is to start with the source panel method we implemented in the previous lesson and add some *circulation* so that we may have a lift force. We introduce an important concept: the **Kutta-condition** that allows us to determine what the right amount of circulation should be."
   ]
  },
  {
   "cell_type": "markdown",
   "metadata": {},
   "source": [
    "##### Reference\n",
    "\n",
    "* Smith, A.M.O., The Panel Method: Its Original Development. In _Applied Computational Aerodynamics_, Vol. 125, edited by P.A. Henne, published by AIAA (1990). [Read it on Google Books.](http://books.google.com/books?id=5Ov2tHj0wxoC&lpg=PA3&ots=SnUiqcdEnb&dq=The%20Panel%20Method%3A%20Its%20Original%20Development&pg=PA3#v=onepage&q&f=false)"
   ]
  },
  {
   "cell_type": "markdown",
   "metadata": {},
   "source": [
    "## A lifting-body panel method"
   ]
  },
  {
   "cell_type": "markdown",
   "metadata": {},
   "source": [
    "If we were to simply increase the angle of attack in the freestream and calculate the flow with a source sheet only, the rear stagnation point will not be located at the trailing edge. Instead, the flow will bend around the trailing edge and the stagnation point will be somewhere on the top surface of the airfoil. This is not a physically possible solution.\n",
    "\n",
    "For example, using the source-sheet panel method of [Lesson 10](http://nbviewer.ipython.org/github/barbagroup/AeroPython/blob/master/lessons/10_Lesson10_sourcePanelMethod.ipynb) with an angle of attack $\\alpha=4^\\circ$ (using 40 panels), and plotting the streamlines in an area close to the trailing edge, we get the following plot:\n",
    "\n",
    "<center><img src=\"./resources/StreamlinesTrailingEdge.png\" width=\"600\"></center>"
   ]
  },
  {
   "cell_type": "markdown",
   "metadata": {},
   "source": [
    "As you can see, the streamlines behave strangely at the trailing edge. We know experimentally that the flow leaves the trailing edge of an airfoil smoothly, so this must be wrong. What's wrong?  We can't exclusively use sources to calculate the potential flow of an airfoil at non-zero angle of attack--we need circulation. But how do we obtain circulation?\n",
    "\n",
    "### The Kutta condition\n",
    "\n",
    "The *Kutta-condition* states that the pressure below and above the airfoil trailing edge must be equal so that the flow does not bend around it and instead leaves the airfoil tangentially. The rear stagnation point must be exactly at the trailing edge.\n",
    "\n",
    "It's natural to be a little perplexed by this. How can we justify this seemingly arbitrary condition? Remember that potential-flow theory completely ignores fluid viscosity, so if we are leaving out this physical effect, we shouldn't be surprised that the theory needs some adjustment for those situations when viscosity does play a role. A real viscous fluid is not able to turn around a sharp corner like an airfoil trailing edge without separating there. The Kutta condition allows us to correct potential-flow theory so that it gives a solution closer to reality.\n",
    "\n",
    "Remember [Lesson 6](http://nbviewer.ipython.org/github/barbagroup/AeroPython/blob/master/lessons/06_Lesson06_vortexLift.ipynb), where we studied lift on a cylinder by combining a doublet and a freestream, plus a vortex. That's when we learned that **lift always requires circulation**. If you experimented with the circulation of the point vortex (which you *did*, right?), you found that the stagnation points moved along the cylinder.\n",
    "\n",
    "Like for the circular cylinder, the amount of circulation we add to an airfoil will move the stagnation points along the surface. And if we add just the right amount, the rear stagnation point can be made to coincide with the trailing edge. This amount of circulation makes the flow a physically relevant solution. And this amount gives the correct lift!\n",
    "\n",
    "To implement the Kutta-condition in our panel method we need to add one more equation to the system, giving the circulation that moves the stagnation point to the trailing edge. By placing a vortex-sheet with the same constant strength at every panel, we can add the circulation to the flow with just one more unknown.\n",
    "\n",
    "How do we enforce this in our code? We can re-use most of the code from Lesson 10, and enforce the Kutta-condition while adding circulation to the flow. Previously, we discretized the geometry into `N` panels, with a constant source strength on each one (varying from panel to panel), and applied a Neumann boundary condition of flow tangency at the `N` panel centers. This led to a linear system of `N` equations and `N` unknowns that we solved with the SciPy function `linalg.solve`. In the lifting-body case, we will instead have `N+1` equations and `N+1` unknowns. Read on to find out how!\n"
   ]
  },
  {
   "cell_type": "markdown",
   "metadata": {},
   "source": [
    "### Discretization into panels"
   ]
  },
  {
   "cell_type": "markdown",
   "metadata": {},
   "source": [
    "Let's get the preliminaries out of the way. We need to import our favorite libraries, and the function `integrate` from SciPy, as in Lesson 10."
   ]
  },
  {
   "cell_type": "code",
   "execution_count": 1,
   "metadata": {
    "collapsed": false
   },
   "outputs": [],
   "source": [
    "# import libraries and modules needed\n",
    "import numpy\n",
    "from scipy import integrate, linalg\n",
    "from matplotlib import pyplot\n",
    "\n",
    "# integrate plots into the notebook\n",
    "%matplotlib inline"
   ]
  },
  {
   "cell_type": "markdown",
   "metadata": {},
   "source": [
    "We start by importing the NACA0012 geometry from a data file, and we plot the airfoil:"
   ]
  },
  {
   "cell_type": "code",
   "execution_count": 2,
   "metadata": {
    "collapsed": false
   },
   "outputs": [],
   "source": [
    "# load geometry from data file\n",
    "x, y = numpy.loadtxt('./resources/naca0012.dat', dtype=float, unpack=True)"
   ]
  },
  {
   "cell_type": "code",
   "execution_count": 3,
   "metadata": {
    "collapsed": false
   },
   "outputs": [
    {
     "data": {
      "image/png": "[encoded data removed]",
      "text/plain": [
       "<matplotlib.figure.Figure at 0x7f17c8cd7a20>"
      ]
     },
     "metadata": {},
     "output_type": "display_data"
    }
   ],
   "source": [
    "# plot geometry\n",
    "\n",
    "# parameters to have a nice plot\n",
    "val_x, val_y = 0.1, 0.2              \n",
    "\n",
    "xp_min, xp_max = x.min(), x.max()    \n",
    "yp_min, yp_max = y.min(), y.max()\n",
    "\n",
    "# plot limits\n",
    "xp_start, xp_end = xp_min-val_x*(xp_max-xp_min), xp_max+val_x*(xp_max-xp_min)\n",
    "yp_start, yp_end = yp_min-val_y*(yp_max-yp_min), yp_max+val_y*(yp_max-yp_min)\n",
    "\n",
    "# plot\n",
    "size = 10\n",
    "pyplot.figure(figsize=(size, (yp_end-yp_start)/(xp_end-xp_start)*size))\n",
    "pyplot.grid(True)\n",
    "pyplot.xlabel('x', fontsize=16)\n",
    "pyplot.ylabel('y', fontsize=16)\n",
    "pyplot.xlim(xp_start, xp_end)\n",
    "pyplot.ylim(yp_start, yp_end)\n",
    "pyplot.plot(x, y, color='k', linestyle='-', linewidth=2);"
   ]
  },
  {
   "cell_type": "markdown",
   "metadata": {},
   "source": [
    "The contour defining the airfoil will be partitioned into `N` panels, using the same method as in [Lesson 10](http://nbviewer.ipython.org/github/barbagroup/AeroPython/blob/master/lessons/10_Lesson10_sourcePanelMethod.ipynb).\n",
    "\n",
    "We define a class `Panel`  that will store all information about one panel: start and end points, center point, length, orientation, source strength, tangential velocity and pressure coefficient. We don't save the vortex-sheet strength because all panels will have the same value."
   ]
  },
  {
   "cell_type": "code",
   "execution_count": 4,
   "metadata": {
    "collapsed": false
   },
   "outputs": [],
   "source": [
    "class Panel:\n",
    "    \"\"\"Contains information related to a panel.\"\"\"\n",
    "    def __init__(self, xa, ya, xb, yb):\n",
    "        \"\"\"Creates a panel.\n",
    "        \n",
    "        Parameters\n",
    "        ---------_\n",
    "        xa, ya: float\n",
    "            Coordinates of the starting-point.\n",
    "        xb, yb: float\n",
    "            Coordinates of the ending-point.\n",
    "        \"\"\"\n",
    "        self.xa, self.ya = xa, ya # panel starting-point\n",
    "        self.xb, self.yb = xb, yb # panel ending-point\n",
    "        \n",
    "        self.xc, self.yc = (xa+xb)/2, (ya+yb)/2         # panel center\n",
    "        self.length = numpy.sqrt((xb-xa)**2+(yb-ya)**2) # panel length\n",
    "        \n",
    "        # orientation of panel (angle between x-axis and panel's normal)\n",
    "        if xb-xa <= 0.0:\n",
    "            self.beta = numpy.arccos((yb-ya)/self.length)\n",
    "        elif xb-xa > 0.0:\n",
    "            self.beta = numpy.pi + numpy.arccos(-(yb-ya)/self.length)\n",
    "        \n",
    "        # panel location\n",
    "        if self.beta <= numpy.pi:\n",
    "            self.loc = 'upper' # upper surface\n",
    "        else:\n",
    "            self.loc = 'lower' # lower surface\n",
    "        \n",
    "        self.sigma = 0.0 # source strength\n",
    "        self.vt = 0.0    # tangential velocity\n",
    "        self.cp = 0.0    # pressure coefficient"
   ]
  },
  {
   "cell_type": "markdown",
   "metadata": {},
   "source": [
    "Like before, we call the function `define_panels` to discretize the airfoil geometry in `N` panels. The function will return a NumPy array of `N` objects of the type `Panel`."
   ]
  },
  {
   "cell_type": "code",
   "execution_count": 5,
   "metadata": {
    "collapsed": false
   },
   "outputs": [],
   "source": [
    "def define_panels(x, y, N=40):\n",
    "    \"\"\"Discretizes the geometry into panels using 'cosine' method.\n",
    "    \n",
    "    Parameters\n",
    "    ----------\n",
    "    x, y: Numpy 1d array (float)\n",
    "        Coordinates of the geometry\n",
    "    N: int\n",
    "        Number of panels; default: 40.\n",
    "    \n",
    "    Returns\n",
    "    -------\n",
    "    panels: Numpy 1d array (Panel object)\n",
    "        Array of panels.\n",
    "    \"\"\"\n",
    "    \n",
    "    R = (x.max()-x.min())/2.0        # circle radius\n",
    "    x_center = (x.max()+x.min())/2.0 # x-coordinate of circle center\n",
    "    \n",
    "    theta = numpy.linspace(0.0, 2.0*numpy.pi, N+1) # array of angles\n",
    "    x_circle = x_center +  R*numpy.cos(theta)      # x-coordinates of circle\n",
    "    \n",
    "    x_ends = numpy.copy(x_circle)     # x-coordinate of panels end-points\n",
    "    y_ends = numpy.empty_like(x_ends) # y-coordinate of panels end-points\n",
    "    \n",
    "    # extend coordinates to consider closed surface\n",
    "    x, y = numpy.append(x, x[0]), numpy.append(y, y[0])\n",
    "    \n",
    "    # compute y-coordinate of end-points by projection\n",
    "    I = 0\n",
    "    for i in range(N):\n",
    "        while I < len(x)-1:\n",
    "            if (x[I] <= x_ends[i] <= x[I+1]) or (x[I+1] <= x_ends[i] <= x[I]):\n",
    "                break\n",
    "            else:\n",
    "                I += 1\n",
    "        a = (y[I+1]-y[I])/(x[I+1]-x[I])\n",
    "        b = y[I+1] - a*x[I+1]\n",
    "        y_ends[i] = a*x_ends[i] + b\n",
    "    y_ends[N] = y_ends[0]\n",
    "    \n",
    "    # create panels\n",
    "    return panels"
   ]
  },
  {
   "cell_type": "markdown",
   "metadata": {},
   "source": [
    "Now we can use our new function to define the geometry for the airfoil panels, and then plot the panel nodes on the geometry."
   ]
  },
  {
   "cell_type": "code",
   "execution_count": 6,
   "metadata": {
    "collapsed": false
   },
   "outputs": [],
   "source": [
    "# discretize geoemetry into panels\n",
    "panels = define_panels(x, y, N=40)"
   ]
  },
  {
   "cell_type": "code",
   "execution_count": 7,
   "metadata": {
    "collapsed": false
   },
   "outputs": [
    {
     "data": {
      "image/png": "[encoded data removed]",
      "text/plain": [
       "<matplotlib.figure.Figure at 0x7f17c8cd7630>"
      ]
     },
     "metadata": {},
     "output_type": "display_data"
    }
   ],
   "source": [
    "# plot discretized geoemtry\n",
    "\n",
    "# parameters to have a nice plot\n",
    "val_x, val_y = 0.1, 0.2              \n",
    "\n",
    "xp_min = min(panel.xa for panel in panels)\n",
    "xp_max = max(panel.xa for panel in panels)    \n",
    "yp_min = min(panel.ya for panel in panels)\n",
    "yp_max = max(panel.ya for panel in panels)    \n",
    "\n",
    "# plot-limits\n",
    "xp_start, xp_end = xp_min-val_x*(xp_max-xp_min), xp_max+val_x*(xp_max-xp_min)\n",
    "yp_start, yp_end = yp_min-val_y*(yp_max-yp_min), yp_max+val_y*(yp_max-yp_min)\n",
    "\n",
    "# plot\n",
    "size = 10\n",
    "pyplot.figure(figsize=(size, (yp_end-yp_start)/(xp_end-xp_start)*size))\n",
    "pyplot.grid(True)\n",
    "pyplot.xlabel('x', fontsize=16)\n",
    "pyplot.ylabel('y', fontsize=16)\n",
    "pyplot.xlim(xp_start, xp_end)\n",
    "pyplot.ylim(yp_start, yp_end)\n",
    "pyplot.plot(x, y, color='k', linestyle='-', linewidth=2)\n",
    "pyplot.plot(numpy.append([panel.xa for panel in panels], panels[0].xa), \n",
    "         numpy.append([panel.ya for panel in panels], panels[0].ya), \n",
    "         linestyle='-', linewidth=1, marker='o', markersize=6, color='#CD2305');"
   ]
  },
  {
   "cell_type": "markdown",
   "metadata": {},
   "source": [
    "### Free stream conditions\n",
    "\n",
    "The airfoil is immersed in a free-stream $(U_\\infty$,$\\alpha)$ where $U_\\infty$ and $\\alpha$ are the velocity magnitude and angle of attack, respectively. Like before, we create a class for the free stream, even though we will only have one object that uses this class. It makes it easier to pass the free stream to other functions later on."
   ]
  },
  {
   "cell_type": "code",
   "execution_count": 8,
   "metadata": {
    "collapsed": false
   },
   "outputs": [],
   "source": [
    "class Freestream:\n",
    "    \"\"\"Freestream conditions.\"\"\"\n",
    "    def __init__(self, u_inf=1.0, alpha=0.0):\n",
    "        \"\"\"Sets the freestream conditions.\n",
    "        \n",
    "        Parameters\n",
    "        ----------\n",
    "        u_inf: float\n",
    "            Freestream speed; default: 1.0.\n",
    "        alpha: float\n",
    "            Angle of attack in degrees; default 0.0.\n",
    "        \"\"\"\n",
    "        self.u_inf = u_inf\n",
    "        self.alpha = alpha*numpy.pi/180.0 # degrees to radians"
   ]
  },
  {
   "cell_type": "code",
   "execution_count": 9,
   "metadata": {
    "collapsed": false
   },
   "outputs": [],
   "source": [
    "# define freestream conditions\n",
    "freestream = Freestream(u_inf=1.0, alpha=4.0)"
   ]
  },
  {
   "cell_type": "markdown",
   "metadata": {},
   "source": [
    "### Flow tangency boundary condition\n",
    "\n",
    "A constant vortex strength $\\gamma$ will be added to each panel (all panels have the same, constant vortex-sheet strength). Thus, using the principle of superposition, the velocity potential becomes:\n",
    "\n",
    "$$\n",
    "\\begin{align*}\n",
    "\\phi\\left(x_{c_i},y_{c_i}\\right) &= V_\\infty x_{c_i} \\cos \\alpha + V_\\infty y_{c_i} \\sin \\alpha \\\\\n",
    "&+ \\sum_{j=1}^N \\frac{\\sigma_j}{2\\pi} \\int_j \\ln \\left(\\sqrt{(x_{c_i}-x_j(s_j))^2+(y_{c_i}-y_j(s_j))^2} \\right) {\\rm d}s_j \\\\\n",
    "&- \\sum_{j=1}^N \\frac{\\gamma}{2\\pi} \\int_j \\tan^{-1} \\left(\\frac{y_{c_i}-y_j(s_j)}{x_{c_i}-x_j(s_j)}\\right) {\\rm d}s_j\n",
    "\\end{align*}\n",
    "$$\n",
    "\n",
    "The flow tangency boundary condition is applied at every panel center:\n",
    "\n",
    "$$0 = \\vec{V}\\cdot\\vec{n}_i = \\frac{\\partial}{\\partial n_i} \\left\\{ \\phi\\left(x_{c_i},y_{c_i}\\right) \\right\\}$$\n",
    "\n",
    "i.e.\n",
    "\n",
    "$$\n",
    "\\begin{align*}\n",
    "0 &= V_\\infty \\cos \\left(\\alpha-\\beta_i\\right) + \\frac{\\sigma_i}{2} \\\\\n",
    "&+ \\sum_{j=1,j\\neq i}^N \\frac{\\sigma_j}{2\\pi} \\int_j \\frac{\\partial}{\\partial n_i} \\ln \\left(\\sqrt{(x_{c_i}-x_j(s_j))^2+(y_{c_i}-y_j(s_j))^2} \\right) {\\rm d}s_j \\\\\n",
    "&- \\sum_{j=1,j\\neq i}^N \\frac{\\gamma}{2\\pi} \\int_j \\frac{\\partial}{\\partial n_i} \\tan^{-1} \\left(\\frac{y_{c_i}-y_j(s_j)}{x_{c_i}-x_j(s_j)}\\right) {\\rm d}s_j\n",
    "\\end{align*}\n",
    "$$\n",
    "\n",
    "We already worked the first integral in the previous lesson:\n",
    "\n",
    "$$\\frac{\\partial}{\\partial n_i} \\ln \\left(\\sqrt{(x_{c_i}-x_j(s_j))^2+(y_{c_i}-y_j(s_j))^2} \\right) = \\frac{\\left(x_{c_i}-x_j\\right)\\frac{\\partial x_{c_i}}{\\partial n_i} + \\left(y_{c_i}-y_j\\right)\\frac{\\partial y_{c_i}}{\\partial n_i}}{\\left(x_{c_i}-x_j\\right)^2 + \\left(y_{c_i}-y_j\\right)^2}$$\n",
    "\n",
    "where $\\frac{\\partial x_{c_i}}{\\partial n_i} = \\cos \\beta_i$ and $\\frac{\\partial y_{c_i}}{\\partial n_i} = \\sin \\beta_i$, and\n",
    "\n",
    "$$x_j(s_j) = x_{b_j} - s_j \\sin \\beta_j$$\n",
    "\n",
    "$$y_j(s_j) = y_{b_j} + s_j \\cos \\beta_j$$\n",
    "\n",
    "We now need to derive the last integral of the boundary equation:\n",
    "\n",
    "$$\\frac{\\partial}{\\partial n_i} \\tan^{-1} \\left(\\frac{y_{c_i}-y_j(s_j)}{x_{c_i}-x_j(s_j)}\\right)= \\frac{\\left(x_{c_i}-x_j\\right)\\frac{\\partial y_{c_i}}{\\partial n_i} - \\left(y_{c_i}-y_j\\right)\\frac{\\partial x_{c_i}}{\\partial n_i}}{\\left(x_{c_i}-x_j\\right)^2 + \\left(y_{c_i}-y_j\\right)^2}$$\n",
    "\n",
    "where $\\frac{\\partial x_{c_i}}{\\partial n_i} = \\cos \\beta_i$ and $\\frac{\\partial y_{c_i}}{\\partial n_i} = \\sin \\beta_i$."
   ]
  },
  {
   "cell_type": "markdown",
   "metadata": {},
   "source": [
    "### Enforcing the Kutta condition\n",
    "\n",
    "To enforce the *Kutta-condition*, we state that the pressure coefficient on the fisrt panel must be equal to that on the last panel:\n",
    "\n",
    "$$C_{p_1} = C_{p_{N}}$$\n",
    "\n",
    "Using the definition of the pressure coefficient $C_p = 1-\\left(\\frac{V}{U_\\infty}\\right)^2$, the Kutta-condition implies that the magnitude of the velocity at the first panel center must equal the magnitude of the last panel center:\n",
    "\n",
    "$$V_1^2 = V_N^2$$\n",
    "\n",
    "Since the flow tangency condition requires that $V_{n_1} = V_{n_N} = 0$, we end up with the following *Kutta-condition*:\n",
    "\n",
    "$$V_{t_1} = - V_{t_N}$$\n",
    "\n",
    "(the minus sign comes from the reference axis we chose for the normal and tangential vectors).\n"
   ]
  },
  {
   "cell_type": "markdown",
   "metadata": {},
   "source": [
    "Let's derive the tangential velocity for every panel, since it will be useful to compute the pressure coefficient.\n",
    "\n",
    "$$V_{t_i} = \\frac{\\partial}{\\partial t_i} \\left(\\phi\\left(x_{c_i},y_{c_i}\\right)\\right)$$\n",
    "\n",
    "i.e.,\n",
    "\n",
    "$$\n",
    "\\begin{align*}\n",
    "V_{t_i} &= V_\\infty \\sin \\left(\\alpha-\\beta_i\\right) \\\\\n",
    "&+ \\sum_{j=1,j\\neq i}^N \\frac{\\sigma_j}{2\\pi} \\int_j \\frac{\\partial}{\\partial t_i} \\ln \\left(\\sqrt{(x_{c_i}-x_j(s_j))^2+(y_{c_i}-y_j(s_j))^2} \\right) {\\rm d}s_j \\\\\n",
    "&- \\sum_{j=1,j\\neq i}^N \\frac{\\gamma}{2\\pi} \\int_j \\frac{\\partial}{\\partial t_i} \\tan^{-1} \\left(\\frac{y_{c_i}-y_j(s_j)}{x_{c_i}-x_j(s_j)}\\right) {\\rm d}s_j \\\\\n",
    "&-\\frac{\\gamma}{2}\n",
    "\\end{align*}\n",
    "$$\n",
    "\n",
    "\n",
    "which gives\n",
    "\n",
    "$$\n",
    "\\begin{align*}\n",
    "V_{t_i} &= V_\\infty \\sin \\left(\\alpha-\\beta_i\\right) \\\\\n",
    "&+ \\sum_{j=1,j\\neq i}^N \\frac{\\sigma_j}{2\\pi} \\int_j \\frac{\\left(x_{c_i}-x_j\\right)\\frac{\\partial x_{c_i}}{\\partial t_i} + \\left(y_{c_i}-y_j\\right)\\frac{\\partial y_{c_i}}{\\partial t_i}}{\\left(x_{c_i}-x_j\\right)^2 + \\left(y_{c_i}-y_j\\right)^2} {\\rm d}s_j \\\\\n",
    "&- \\sum_{j=1,j\\neq i}^N \\frac{\\gamma}{2\\pi} \\int_j \\frac{\\left(x_{c_i}-x_j\\right)\\frac{\\partial y_{c_i}}{\\partial t_i} - \\left(y_{c_i}-y_j\\right)\\frac{\\partial x_{c_i}}{\\partial t_i}}{\\left(x_{c_i}-x_j\\right)^2 + \\left(y_{c_i}-y_j\\right)^2} {\\rm d}s_j \\\\\n",
    "&-\\frac{\\gamma}{2}\n",
    "\\end{align*}\n",
    "$$\n",
    "\n",
    "where $\\frac{\\partial x_{c_i}}{\\partial t_i} = -\\sin \\beta_i$ and $\\frac{\\partial y_{c_i}}{\\partial t_i} = \\cos \\beta_i$."
   ]
  },
  {
   "cell_type": "markdown",
   "metadata": {},
   "source": [
    "### Building the linear system\n",
    "\n",
    "Here, we build and solve the linear system of equations of the form\n",
    "\n",
    "$$[A][\\sigma,\\gamma] = [b]$$\n",
    "\n",
    "where the $N+1 \\times N+1$ matrix $[A]$ contains three blocks: an $N \\times N$ source matrix (the same one of Lesson 10), an $N \\times 1$ vortex array to store the weight of the variable $\\gamma$ at each panel, and a $1 \\times N+1$ Kutta array that repesents our Kutta-condition.\n",
    "\n",
    "We are going to re-use the function `integral` from [Lesson 10](http://nbviewer.ipython.org/github/barbagroup/AeroPython/blob/master/lessons/10_Lesson10_sourcePanelMethod.ipynb) to compute the different integrals with the SciPy function `integrate.quad`:"
   ]
  },
  {
   "cell_type": "code",
   "execution_count": 10,
   "metadata": {
    "collapsed": false
   },
   "outputs": [],
   "source": [
    "def integral(x, y, panel, dxdk, dydk):\n",
    "    \"\"\"Evaluates the contribution from a panel at a given point.\n",
    "    \n",
    "    Parameters\n",
    "    ----------\n",
    "    x, y: float\n",
    "        Coordinates of the point.\n",
    "    panel: Panel object\n",
    "        Panel whose contribution is evaluated.\n",
    "    dxdk: float\n",
    "        Value of the derivative of x in a certain direction.\n",
    "    dydk: float\n",
    "        Value of the derivative of y in a certain direction.\n",
    "    \n",
    "    Returns\n",
    "    -------\n",
    "    Contribution from panel at point (x, y).\n",
    "    \"\"\"\n",
    "    def func(s):\n",
    "        return ( ((x - (panel.xa - numpy.sin(panel.beta)*s))*dxdk\n",
    "                  +(y - (panel.ya + numpy.cos(panel.beta)*s))*dydk)\n",
    "                / ((x - (panel.xa - numpy.sin(panel.beta)*s))**2\n",
    "                   +(y - (panel.ya + numpy.cos(panel.beta)*s))**2) )\n",
    "    return integrate.quad(lambda s:func(s), 0., panel.length)[0]"
   ]
  },
  {
   "cell_type": "markdown",
   "metadata": {},
   "source": [
    "We first define the function `source_contribution_normal` to build the source matrix, i.e. the weight from each source on the normal velocity of each panel:"
   ]
  },
  {
   "cell_type": "code",
   "execution_count": 11,
   "metadata": {
    "collapsed": false
   },
   "outputs": [],
   "source": [
    "def source_contribution_normal(panels):\n",
    "    \"\"\"Builds the source contribution matrix for the normal velocity.\n",
    "    \n",
    "    Parameters\n",
    "    ----------\n",
    "    panels: Numpy 1d array (Panel object)\n",
    "        List of panels.\n",
    "    \n",
    "    Returns\n",
    "    -------\n",
    "    A: Numpy 2d array (float)\n",
    "        Source contribution matrix.\n",
    "    \"\"\"\n",
    "    A = numpy.empty((panels.size, panels.size), dtype=float)\n",
    "    # source contribution on a panel from itself\n",
    "    numpy.fill_diagonal(A, 0.5)\n",
    "    # source contribution on a panel from others\n",
    "    for i, panel_i in enumerate(panels):\n",
    "        for j, panel_j in enumerate(panels):\n",
    "            if i != j:\n",
    "                A[i, j] = 0.5/numpy.pi*integral(panel_i.xc, panel_i.yc, \n",
    "                                                panel_j,\n",
    "                                                numpy.cos(panel_i.beta),\n",
    "                                                numpy.sin(panel_i.beta))\n",
    "    return A"
   ]
  },
  {
   "cell_type": "markdown",
   "metadata": {},
   "source": [
    "Then, we define `vortex_contribution_normal` to build the vortex matrix:"
   ]
  },
  {
   "cell_type": "code",
   "execution_count": 12,
   "metadata": {
    "collapsed": false
   },
   "outputs": [],
   "source": [
    "def vortex_contribution_normal(panels):\n",
    "    \"\"\"Builds the vortex contribution matrix for the normal velocity.\n",
    "    \n",
    "    Parameters\n",
    "    ----------\n",
    "    panels: Numpy 1d array (Panel object)\n",
    "        List of panels.\n",
    "    \n",
    "    Returns\n",
    "    -------\n",
    "    A: Numpy 2d array (float)\n",
    "        Vortex contribution matrix.\n",
    "    \"\"\"\n",
    "    A = numpy.empty((panels.size, panels.size), dtype=float)\n",
    "    # vortex contribution on a panel from itself\n",
    "    numpy.fill_diagonal(A, 0.0)\n",
    "    # vortex contribution on a panel from others\n",
    "    for i, panel_i in enumerate(panels):\n",
    "        for j, panel_j in enumerate(panels):\n",
    "            if i != j:\n",
    "                A[i, j] = -0.5/numpy.pi*integral(panel_i.xc, panel_i.yc, \n",
    "                                                 panel_j,\n",
    "                                                 numpy.sin(panel_i.beta),\n",
    "                                                 -numpy.cos(panel_i.beta))\n",
    "    return A"
   ]
  },
  {
   "cell_type": "markdown",
   "metadata": {},
   "source": [
    "Let's call both of these functions to create the source matrix `A_source` and the vortex matrix `B_vortex`:"
   ]
  },
  {
   "cell_type": "code",
   "execution_count": 13,
   "metadata": {
    "collapsed": false
   },
   "outputs": [],
   "source": [
    "A_source = source_contribution_normal(panels)\n",
    "B_vortex = vortex_contribution_normal(panels)"
   ]
  },
  {
   "cell_type": "markdown",
   "metadata": {},
   "source": [
    "We still have to include the Kutta condition in our system.\n",
    "\n",
    "Following this lesson, there is an [exercise](http://nbviewer.ipython.org/github/barbagroup/AeroPython/blob/master/lessons/11_Lesson11_Exercise.ipynb) for you to complete, which will help you to show that:\n",
    "\n",
    "* the matrix resulting from the contribution of the vortices on the normal velocity, $B^n$, is **exactly** the matrix resulting from the contribution of the sources on the tangential velocity, $A^t$, i.e.\n",
    "\n",
    "$$B^n_{ij}=A^t_{ij} \\quad \\forall (i, j) \\in \\{1, \\cdots, N\\}^2$$\n",
    "\n",
    "* the matrix resulting from the contribution of the vortices on the tangential velocity, $B^t$, is the **opposite** of the matrix resulting from the contribution of the sources on the normal velocity, $A^n$, i.e.\n",
    "\n",
    "$$B^t_{ij}=-A^n_{ij} \\quad \\forall (i, j) \\in \\{1, \\cdots, N\\}^2$$\n",
    "\n",
    "where the superscripts $n$ and $t$ denote the normal and tangential velocity components, respectively.\n",
    "\n",
    "Thus, the Kutta condition can be cast in the following form\n",
    "\n",
    "$$\n",
    "\\begin{bmatrix}\n",
    "(A^t_{11}+A^t_{N1}) \\\\\n",
    "\\vdots \\\\ \n",
    "(A^t_{1N}+A^t_{NN}) \\\\\n",
    "\\left( \\sum_{j=1}^N (B^t_{1j}+B^t_{Nj}) \\right)\n",
    "\\end{bmatrix}^T\n",
    "\\begin{bmatrix}\n",
    "\\sigma_1 \\\\\n",
    "\\vdots \\\\\n",
    "\\sigma_N \\\\\n",
    "\\gamma\n",
    "\\end{bmatrix}\n",
    "=\n",
    "-(b^t_1+b^t_N)\n",
    "$$\n",
    "\n",
    "Let's define a function `kutta_condition` that does the job:"
   ]
  },
  {
   "cell_type": "code",
   "execution_count": 14,
   "metadata": {
    "collapsed": false
   },
   "outputs": [],
   "source": [
    "def kutta_condition(A_source, B_vortex):\n",
    "    \"\"\"Builds the Kutta condition array.\n",
    "    \n",
    "    Parameters\n",
    "    ----------\n",
    "    A_source: Numpy 2d array (float)\n",
    "        Source contribution matrix for the normal velocity.\n",
    "    B_vortex: Numpy 2d array (float)\n",
    "        Vortex contribution matrix for the normal velocity.\n",
    "    \n",
    "    Returns\n",
    "    -------\n",
    "    b: Numpy 1d array (float)\n",
    "        The left hand-side of the Kutta-condition equation.\n",
    "    \"\"\"\n",
    "    b = numpy.empty(A_source.shape[0]+1, dtype=float)\n",
    "    # matrix of source contribution on tangential velocity\n",
    "    # is the same than\n",
    "    # matrix of vortex contribution on normal velocity\n",
    "    b[:-1] = B_vortex[0, :] + B_vortex[-1, :]\n",
    "    # matrix of vortex contribution on tangential velocity\n",
    "    # is the opposite of\n",
    "    # matrix of source contribution on normal velocity\n",
    "    b[-1] = - numpy.sum(A_source[0, :] + A_source[-1, :])\n",
    "    return b"
   ]
  },
  {
   "cell_type": "markdown",
   "metadata": {},
   "source": [
    "We now have all the ingredients we need.  The function `build_singularity_matrix` will gather together the source matrix, the vortex array, and the Kutta array to build the matrix needed to solve the linear system. "
   ]
  },
  {
   "cell_type": "code",
   "execution_count": 15,
   "metadata": {
    "collapsed": false
   },
   "outputs": [],
   "source": [
    "def build_singularity_matrix(A_source, B_vortex):\n",
    "    \"\"\"Builds the left hand-side matrix of the system\n",
    "    arising from source and vortex contributions.\n",
    "    \n",
    "    Parameters\n",
    "    ----------\n",
    "    A_source: Numpy 2d array (float)\n",
    "        Source contribution matrix for the normal velocity.\n",
    "    B_vortex: Numpy 2d array (float)\n",
    "        Vortex contribution matrix for the normal velocity.\n",
    "    \n",
    "    Returns\n",
    "    -------\n",
    "    A:  Numpy 2d array (float)\n",
    "        Matrix of the linear system.\n",
    "    \"\"\"\n",
    "    A = numpy.empty((A_source.shape[0]+1, A_source.shape[1]+1), dtype=float)\n",
    "    # source contribution matrix\n",
    "    A[:-1, :-1] = A_source\n",
    "    # vortex contribution array\n",
    "    A[:-1, -1] = numpy.sum(B_vortex, axis=1)\n",
    "    # Kutta condition array\n",
    "    A[-1, :] = kutta_condition(A_source, B_vortex)\n",
    "    return A"
   ]
  },
  {
   "cell_type": "markdown",
   "metadata": {},
   "source": [
    "On the right hand-side, we store everything that does not depend on the unknown strengths."
   ]
  },
  {
   "cell_type": "code",
   "execution_count": 16,
   "metadata": {
    "collapsed": false
   },
   "outputs": [],
   "source": [
    "def build_freestream_rhs(panels, freestream):\n",
    "    \"\"\"Builds the right hand-side of the system \n",
    "    arising from the freestream contribution.\n",
    "    \n",
    "    Parameters\n",
    "    ----------\n",
    "    panels: Numpy 1d array (Panel object)\n",
    "        List of panels.\n",
    "    freestream: Freestream object\n",
    "        Freestream conditions.\n",
    "    \n",
    "    Returns\n",
    "    -------\n",
    "    b: Numpy 1d array (float)\n",
    "        Freestream contribution on each panel and on the Kutta condition.\n",
    "    \"\"\"\n",
    "    b = numpy.empty(panels.size+1,dtype=float)\n",
    "    # freestream contribution on each panel\n",
    "    for i, panel in enumerate(panels):\n",
    "        b[i] = -freestream.u_inf * numpy.cos(freestream.alpha - panel.beta)\n",
    "    # freestream contribution on the Kutta condition\n",
    "    b[-1] = -freestream.u_inf*( numpy.sin(freestream.alpha-panels[0].beta)\n",
    "                               +numpy.sin(freestream.alpha-panels[-1].beta) )\n",
    "    return b"
   ]
  },
  {
   "cell_type": "code",
   "execution_count": 17,
   "metadata": {
    "collapsed": false
   },
   "outputs": [],
   "source": [
    "A = build_singularity_matrix(A_source, B_vortex)\n",
    "b = build_freestream_rhs(panels, freestream)"
   ]
  },
  {
   "cell_type": "markdown",
   "metadata": {},
   "source": [
    "As in the previous lesson, we solve the linear system using the Scipy function `linalg.solve`. Then we store the results in the attribute `sigma` of each `Panel` object. We also create a variable `gamma` to store the value of the constant vortex strength."
   ]
  },
  {
   "cell_type": "code",
   "execution_count": 18,
   "metadata": {
    "collapsed": false
   },
   "outputs": [],
   "source": [
    "# solve for singularity strengths\n",
    "strengths = numpy.linalg.solve(A, b)\n",
    "\n",
    "# store source strength on each panel\n",
    "for i , panel in enumerate(panels):\n",
    "    panel.sigma = strengths[i]\n",
    "    \n",
    "# store circulation density\n",
    "gamma = strengths[-1]"
   ]
  },
  {
   "cell_type": "markdown",
   "metadata": {},
   "source": [
    "## Surface pressure coefficient\n",
    "\n",
    "The pressure coefficient at the $i$-th panel center is:\n",
    "\n",
    "$$C_{p_i} = 1 - \\left(\\frac{V_{t_i}}{U_\\infty}\\right)^2$$\n",
    "\n",
    "So, we have to compute the tangential velocity at each panel center using the function `compute_tangential_velocity`:"
   ]
  },
  {
   "cell_type": "code",
   "execution_count": 19,
   "metadata": {
    "collapsed": false
   },
   "outputs": [],
   "source": [
    "def compute_tangential_velocity(panels, freestream, gamma, A_source, B_vortex):\n",
    "    \"\"\"Computes the tangential surface velocity.\n",
    "    \n",
    "    Parameters\n",
    "    ----------\n",
    "    panels: Numpy 1d array (Panel object)\n",
    "        List of panels.\n",
    "    freestream: Fresstream object\n",
    "        Freestream conditions.\n",
    "    gamma: float\n",
    "        Circulation density.\n",
    "    A_source: Numpy 2d array (float)\n",
    "        Source contribution matrix for the normal velocity.\n",
    "    B_vortex: Numpy 2d array (float)\n",
    "        Vortex contribution matrix for the normal velocity.\n",
    "    \"\"\"\n",
    "    A = numpy.empty((panels.size, panels.size+1), dtype=float)\n",
    "    # matrix of source contribution on tangential velocity\n",
    "    # is the same than\n",
    "    # matrix of vortex contribution on normal velocity\n",
    "    A[:, :-1] = B_vortex\n",
    "    # matrix of vortex contribution on tangential velocity\n",
    "    # is the opposite of\n",
    "    # matrix of source contribution on normal velocity\n",
    "    A[:, -1] = -numpy.sum(A_source, axis=1)\n",
    "    # freestream contribution\n",
    "    b = freestream.u_inf*numpy.sin([freestream.alpha-panel.beta \n",
    "                                    for panel in panels])\n",
    "    \n",
    "    strengths = numpy.append([panel.sigma for panel in panels], gamma)\n",
    "    \n",
    "    tangential_velocities = numpy.dot(A, strengths) + b\n",
    "    \n",
    "    for i, panel in enumerate(panels):\n",
    "        panel.vt = tangential_velocities[i]"
   ]
  },
  {
   "cell_type": "code",
   "execution_count": 20,
   "metadata": {
    "collapsed": false
   },
   "outputs": [],
   "source": [
    "# tangential velocity at each panel center.\n",
    "compute_tangential_velocity(panels, freestream, gamma, A_source, B_vortex)"
   ]
  },
  {
   "cell_type": "markdown",
   "metadata": {},
   "source": [
    "And we define a function `compute_pressure_coefficient` to compute the surface pressure coefficient:"
   ]
  },
  {
   "cell_type": "code",
   "execution_count": 21,
   "metadata": {
    "collapsed": false
   },
   "outputs": [],
   "source": [
    "def compute_pressure_coefficient(panels, freestream):\n",
    "    \"\"\"Computes the surface pressure coefficients.\n",
    "    \n",
    "    Parameters\n",
    "    ----------\n",
    "    panels: Numpy 1d array (Panel object)\n",
    "        List of panels.\n",
    "    freestream: Freestream object\n",
    "        Freestream conditions.\n",
    "    \"\"\"\n",
    "    for panel in panels:\n",
    "        panel.cp = 1.0 - (panel.vt/freestream.u_inf)**2"
   ]
  },
  {
   "cell_type": "code",
   "execution_count": 22,
   "metadata": {
    "collapsed": false
   },
   "outputs": [],
   "source": [
    "# surface pressure coefficient\n",
    "compute_pressure_coefficient(panels, freestream)"
   ]
  },
  {
   "cell_type": "markdown",
   "metadata": {},
   "source": [
    "Time to plot the result!"
   ]
  },
  {
   "cell_type": "code",
   "execution_count": 23,
   "metadata": {
    "collapsed": false
   },
   "outputs": [
    {
     "data": {
      "image/png": "[encoded data removed]",
      "text/plain": [
       "<matplotlib.figure.Figure at 0x7f17c6e1bf98>"
      ]
     },
     "metadata": {},
     "output_type": "display_data"
    }
   ],
   "source": [
    "# plot surface pressure coefficient\n",
    "val_x, val_y = 0.1, 0.2\n",
    "x_min = min( panel.xa for panel in panels )\n",
    "x_max = max( panel.xa for panel in panels )\n",
    "cp_min = min( panel.cp for panel in panels )\n",
    "cp_max = max( panel.cp for panel in panels )\n",
    "x_start, x_end = x_min-val_x*(x_max-x_min), x_max+val_x*(x_max-x_min)\n",
    "y_start, y_end = cp_min-val_y*(cp_max-cp_min), cp_max+val_y*(cp_max-cp_min)\n",
    "\n",
    "pyplot.figure(figsize=(10, 6))\n",
    "pyplot.grid(True)\n",
    "pyplot.xlabel(r'$x$', fontsize=16)\n",
    "pyplot.ylabel(r'$C_p$', fontsize=16)\n",
    "pyplot.plot([panel.xc for panel in panels if panel.loc == 'upper'], \n",
    "         [panel.cp for panel in panels if panel.loc == 'upper'],\n",
    "         label='upper surface',\n",
    "         color='r', linestyle='-', linewidth=2, marker='o', markersize=6)\n",
    "pyplot.plot([panel.xc for panel in panels if panel.loc == 'lower'], \n",
    "         [panel.cp for panel in panels if panel.loc == 'lower'], \n",
    "         label= 'lower surface',\n",
    "         color='b', linestyle='-', linewidth=1, marker='o', markersize=6)\n",
    "pyplot.legend(loc='best', prop={'size':14})\n",
    "pyplot.xlim(x_start, x_end)\n",
    "pyplot.ylim(y_start, y_end)\n",
    "pyplot.gca().invert_yaxis()\n",
    "pyplot.title('Number of panels: {}'.format(panels.size), fontsize=16);"
   ]
  },
  {
   "cell_type": "markdown",
   "metadata": {},
   "source": [
    "### Accuracy check\n",
    "\n",
    "For a closed body, the sum of all the source strengths must be zero. If not, it means the body would be adding or absorbing mass from the flow! Therfore, we should have\n",
    "\n",
    "$$\\sum_{i=1}^{N} \\sigma_i l_i = 0$$\n",
    "\n",
    "where $l_i$ is the length of the $i^{\\text{th}}$ panel.\n",
    "\n",
    "With this, we can get a measure of the accuracy of the source panel method."
   ]
  },
  {
   "cell_type": "code",
   "execution_count": 24,
   "metadata": {
    "collapsed": false
   },
   "outputs": [
    {
     "name": "stdout",
     "output_type": "stream",
     "text": [
      "sum of singularity strengths: 0.004606\n"
     ]
    }
   ],
   "source": [
    "# calculate accuracy\n",
    "accuracy = sum([panel.sigma*panel.length for panel in panels])\n",
    "print('sum of singularity strengths: {:0.6f}'.format(accuracy))"
   ]
  },
  {
   "cell_type": "markdown",
   "metadata": {},
   "source": [
    "## Lift coefficient\n",
    "\n",
    "The lift  is given by the Kutta-Joukowski theorem, $L = \\rho \\Gamma U_\\infty$, \n",
    "where $\\rho$ is the fluid density. The total circulation $\\Gamma$ is given by:\n",
    "\n",
    "$$\\Gamma = \\sum_{i=1}^N \\gamma l_i$$\n",
    "\n",
    "Finally, the lift coefficient is given by:\n",
    "\n",
    "$$C_l = \\frac{\\sum_{i=1}^N \\gamma l_i}{\\frac{1}{2}U_\\infty c}$$\n",
    "\n",
    " with $c$ the chord-length of the airoil"
   ]
  },
  {
   "cell_type": "code",
   "execution_count": 25,
   "metadata": {
    "collapsed": false
   },
   "outputs": [
    {
     "name": "stdout",
     "output_type": "stream",
     "text": [
      "lift coefficient: CL = 0.506\n"
     ]
    }
   ],
   "source": [
    "# compute lift\n",
    "cl = ( gamma*sum(panel.length for panel in panels)\n",
    "       / (0.5*freestream.u_inf*(x_max-x_min)) )\n",
    "print('lift coefficient: CL = {:0.3f}'.format(cl))"
   ]
  },
  {
   "cell_type": "markdown",
   "metadata": {},
   "source": [
    "### Challenge task\n",
    "\n",
    "Based on what has been done in the previous notebook, compute and plot the streamlines and the pressure coefficient on a Cartesian grid.\n"
   ]
  },
  {
   "cell_type": "markdown",
   "metadata": {},
   "source": [
    "---"
   ]
  },
  {
   "cell_type": "raw",
   "metadata": {},
   "source": [
    "Please ignore the cell below. It just loads our style for the notebook."
   ]
  },
  {
   "cell_type": "code",
   "execution_count": 26,
   "metadata": {
    "collapsed": false
   },
   "outputs": [
    {
     "data": {
      "text/html": [
       "<link href='http://fonts.googleapis.com/css?family=Fenix' rel='stylesheet' type='text/css'>\n",
       "<link href='http://fonts.googleapis.com/css?family=Alegreya+Sans:100,300,400,500,700,800,900,100italic,300italic,400italic,500italic,700italic,800italic,900italic' rel='stylesheet' type='text/css'>\n",
       "<link href='http://fonts.googleapis.com/css?family=Source+Code+Pro:300,400' rel='stylesheet' type='text/css'>\n",
       "<style>\n",
       "\n",
       "@font-face {\n",
       "    font-family: \"Computer Modern\";\n",
       "    src: url('http://mirrors.ctan.org/fonts/cm-unicode/fonts/otf/cmunss.otf');\n",
       "}\n",
       "\n",
       "\n",
       "#notebook_panel { /* main background */\n",
       "    background: rgb(245,245,245);\n",
       "}\n",
       "\n",
       "div.cell { /* set cell width */\n",
       "    width: 750px;\n",
       "}\n",
       "\n",
       "div #notebook { /* centre the content */\n",
       "    background: #fff; /* white background for content */\n",
       "    width: 1000px;\n",
       "    margin: auto;\n",
       "    padding-left: 0em;\n",
       "}\n",
       "\n",
       "#notebook li { /* More space between bullet points */\n",
       "margin-top:0.8em;\n",
       "}\n",
       "\n",
       "/* draw border around running cells */\n",
       "div.cell.border-box-sizing.code_cell.running { \n",
       "    border: 1px solid #111;\n",
       "}\n",
       "\n",
       "/* Put a solid color box around each cell and its output, visually linking them*/\n",
       "div.cell.code_cell {\n",
       "    background-color: rgb(256,256,256); \n",
       "    border-radius: 0px; \n",
       "    padding: 0.5em;\n",
       "    margin-left:1em;\n",
       "    margin-top: 1em;\n",
       "}\n",
       "\n",
       "\n",
       "div.text_cell_render{\n",
       "    font-family: 'Alegreya Sans' sans-serif;\n",
       "    line-height: 140%;\n",
       "    font-size: 125%;\n",
       "    font-weight: 400;\n",
       "    width:600px;\n",
       "    margin-left:auto;\n",
       "    margin-right:auto;\n",
       "}\n",
       "\n",
       "/* Formatting for header cells */\n",
       ".text_cell_render h1 {\n",
       "    font-family: 'Alegreya Sans', sans-serif;\n",
       "    font-style:regular;\n",
       "    font-weight: 200;    \n",
       "    font-size: 50pt;\n",
       "    line-height: 100%;\n",
       "    color:#CD2305;\n",
       "    margin-bottom: 0.5em;\n",
       "    margin-top: 0.5em;\n",
       "    display: block;\n",
       "}\t\n",
       ".text_cell_render h2 {\n",
       "    font-family: 'Fenix', serif;\n",
       "    font-size: 22pt;\n",
       "    line-height: 100%;\n",
       "    margin-bottom: 0.1em;\n",
       "    margin-top: 0.3em;\n",
       "    display: block;\n",
       "}\t\n",
       "\n",
       ".text_cell_render h3 {\n",
       "    font-family: 'Fenix', serif;\n",
       "    margin-top:12px;\n",
       "\tfont-size: 16pt;\n",
       "    margin-bottom: 3px;\n",
       "    font-style: regular;\n",
       "}\n",
       "\n",
       ".text_cell_render h4 {    /*Use this for captions*/\n",
       "    font-family: 'Fenix', serif;\n",
       "    font-size: 2pt;\n",
       "    text-align: center;\n",
       "    margin-top: 0em;\n",
       "    margin-bottom: 2em;\n",
       "    font-style: regular;\n",
       "}\n",
       "\n",
       ".text_cell_render h5 {  /*Use this for small titles*/\n",
       "    font-family: 'Alegreya Sans', sans-serif;\n",
       "    font-weight: 300;\n",
       "    font-size: 16pt;\n",
       "    color: #CD2305;\n",
       "    font-style: italic;\n",
       "    margin-bottom: .5em;\n",
       "    margin-top: 0.5em;\n",
       "    display: block;\n",
       "}\n",
       "\n",
       ".text_cell_render h6 { /*use this for copyright note*/\n",
       "    font-family: 'Source Code Pro', sans-serif;\n",
       "    font-weight: 300;\n",
       "    font-size: 9pt;\n",
       "    line-height: 100%;\n",
       "    color: grey;\n",
       "    margin-bottom: 1px;\n",
       "    margin-top: 1px;\n",
       "}\n",
       "\n",
       "    .CodeMirror{\n",
       "            font-family: \"Source Code Pro\";\n",
       "\t\t\tfont-size: 90%;\n",
       "    }\n",
       "/*    .prompt{\n",
       "        display: None;\n",
       "    }*/\n",
       "\t\n",
       "    \n",
       "    .warning{\n",
       "        color: rgb( 240, 20, 20 )\n",
       "        }  \n",
       "</style>\n",
       "<script>\n",
       "    MathJax.Hub.Config({\n",
       "                        TeX: {\n",
       "                           extensions: [\"AMSmath.js\"], \n",
       "                           equationNumbers: { autoNumber: \"AMS\", useLabelIds: true}\n",
       "                           },\n",
       "                tex2jax: {\n",
       "                    inlineMath: [ ['$','$'], [\"\\\\(\",\"\\\\)\"] ],\n",
       "                    displayMath: [ ['$$','$$'], [\"\\\\[\",\"\\\\]\"] ]\n",
       "                },\n",
       "                displayAlign: 'center', // Change this to 'center' to center equations.\n",
       "                \"HTML-CSS\": {\n",
       "                    styles: {'.MathJax_Display': {\"margin\": 4}}\n",
       "                }\n",
       "        });\n",
       "</script>\n"
      ],
      "text/plain": [
       "<IPython.core.display.HTML object>"
      ]
     },
     "execution_count": 26,
     "metadata": {},
     "output_type": "execute_result"
    }
   ],
   "source": [
    "from IPython.core.display import HTML\n",
    "def css_styling():\n",
    "    styles = open('../styles/custom.css', 'r').read()\n",
    "    return HTML(styles)\n",
    "css_styling()"
   ]
  }
 ],
 "metadata": {
  "kernelspec": {
   "display_name": "Python 3",
   "language": "python",
   "name": "python3"
  },
  "language_info": {
   "codemirror_mode": {
    "name": "ipython",
    "version": 3
   },
   "file_extension": ".py",
   "mimetype": "text/x-python",
   "name": "python",
   "nbconvert_exporter": "python",
   "pygments_lexer": "ipython3",
   "version": "3.4.4"
  }
 },
 "nbformat": 4,
 "nbformat_minor": 0
}
